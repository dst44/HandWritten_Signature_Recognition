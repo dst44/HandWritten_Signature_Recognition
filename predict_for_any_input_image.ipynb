{
 "cells": [
  {
   "cell_type": "code",
   "execution_count": null,
   "metadata": {},
   "outputs": [],
   "source": [
    "import cv2\n",
    "import tensorflow as tf\n",
    "\n",
    "CATEGORIES = [\"GENUINE\",\"FORGERY\"]\n",
    "\n",
    "def prepare(filepath):\n",
    "    \n",
    "    IMG_SIZE = 256\n",
    "    \n",
    "    img_array = cv2.imread(filepath, cv2.IMREAD_GRAYSCALE)\n",
    "    \n",
    "    #add salt-pepper noise to image\n",
    "\n",
    "    Mat saltpepper_noise = Mat::zeros(img_array.rows, img_array.cols,CV_8U);\n",
    "    randu(saltpepper_noise,0,255);\n",
    "\n",
    "    Mat black = saltpepper_noise < 30;\n",
    "    Mat white = saltpepper_noise > 225;\n",
    "\n",
    "    Mat saltpepper_img = img_array.clone();\n",
    "    saltpepper_img.setTo(255,white);\n",
    "    saltpepper_img.setTo(0,black);\n",
    "\n",
    "    #remove noise using median filter of size 9x9\n",
    "\n",
    "    final_image = cv2.medianBlur(saltpepper_img , 9)\n",
    "\n",
    "    #we resize all the images to 256X256\n",
    "    new_array = cv2.resize(final_img , (IMG_SIZE , IMG_SIZE))\n",
    "    \n",
    "    return new_array.reshape(-1,IMG_SIZE, IMG_SIZE,1)"
   ]
  },
  {
   "cell_type": "code",
   "execution_count": null,
   "metadata": {},
   "outputs": [],
   "source": [
    "model = tf.keras.models.load_model(\"Final_CNN.model\") #this bit can take a while (loading the model)\n",
    "\n",
    "prediction = model.predict([prepare('H:/predict_set/input.jpg')]) #but this will be immediate\n",
    "\n",
    "print(CATEGORIES[int(prediction[0][0])]) #prints out genuine or forgery"
   ]
  }
 ],
 "metadata": {
  "kernelspec": {
   "display_name": "Python 3",
   "language": "python",
   "name": "python3"
  },
  "language_info": {
   "codemirror_mode": {
    "name": "ipython",
    "version": 3
   },
   "file_extension": ".py",
   "mimetype": "text/x-python",
   "name": "python",
   "nbconvert_exporter": "python",
   "pygments_lexer": "ipython3",
   "version": "3.6.7"
  }
 },
 "nbformat": 4,
 "nbformat_minor": 2
}
